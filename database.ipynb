{
 "cells": [
  {
   "cell_type": "code",
   "execution_count": 1,
   "id": "85253072",
   "metadata": {},
   "outputs": [],
   "source": [
    "import sqlite3\n",
    "import datetime"
   ]
  },
  {
   "cell_type": "markdown",
   "id": "08d42557",
   "metadata": {},
   "source": [
    "alarms"
   ]
  },
  {
   "cell_type": "code",
   "execution_count": 7,
   "id": "225acf5e",
   "metadata": {},
   "outputs": [],
   "source": [
    "alarm_db = 'database/alarmtimes.db' "
   ]
  },
  {
   "cell_type": "code",
   "execution_count": 79,
   "id": "4e574680",
   "metadata": {},
   "outputs": [],
   "source": [
    "def request_handler(request):\n",
    "    if request[\"method\"]==\"POST\":\n",
    "        #parse the body of the incoming POST\n",
    "        try:\n",
    "            username = request['form']['user']\n",
    "            times = request['form']['alarm_time'][1:-1].replace(' ','').split(',')\n",
    "            alarm_music = request['form']['music'][1:-1].split(',')\n",
    "        except:\n",
    "            return \"Error with username, alarm time, set state, or music\"   \n",
    "        \n",
    "        alarms = [t[1:-1] for t in times]\n",
    "        musics = [int(m) for m in alarm_music]\n",
    "\n",
    "        if len(alarms) != len(musics):\n",
    "            return \"Error with alarm and music matching\"\n",
    "\n",
    "        with sqlite3.connect(alarm_db) as c:\n",
    "            c.cursor()  # move cursor into database (allows us to execute commands)\n",
    "            c.execute(\"\"\"CREATE TABLE IF NOT EXISTS alarm_data (user text, alarm_time text, music int);\"\"\")\n",
    "            # some other query(ies) about inserting data\n",
    "            \n",
    "            for i in range(len(alarms)):\n",
    "                print( alarms[i], musics[i])\n",
    "                try:\n",
    "                    c.execute('''DELETE FROM alarm_data WHERE user == ?''', (username,))\n",
    "                except:\n",
    "                    print('user not in database yet')\n",
    "                c.execute('''INSERT into alarm_data VALUES (?,?,?);''',(username, alarms[i], musics[i]))\n",
    "\n",
    "        return \"Data POSTED successfully\"\n",
    "    else:\n",
    "        return \"invalid HTTP method for this url.\""
   ]
  },
  {
   "cell_type": "code",
   "execution_count": 68,
   "id": "84056e7c",
   "metadata": {},
   "outputs": [],
   "source": [
    "p = {'method': 'POST', 'form': {'user': 'bat', 'alarm_time': \"['02:30', '12:00']\", 'music': \"[0,1]\"}, 'args': ['user', 'alarm_time', 'music']}"
   ]
  },
  {
   "cell_type": "code",
   "execution_count": 80,
   "id": "43861272",
   "metadata": {},
   "outputs": [
    {
     "name": "stdout",
     "output_type": "stream",
     "text": [
      "['02:30', '12:00']\n",
      "02:30 0\n",
      "12:00 1\n"
     ]
    },
    {
     "data": {
      "text/plain": [
       "'Data POSTED successfully'"
      ]
     },
     "execution_count": 80,
     "metadata": {},
     "output_type": "execute_result"
    }
   ],
   "source": [
    "request_handler(p)"
   ]
  },
  {
   "cell_type": "markdown",
   "id": "18c60026",
   "metadata": {},
   "source": [
    "get alarms"
   ]
  },
  {
   "cell_type": "code",
   "execution_count": 20,
   "id": "38fa89cb",
   "metadata": {},
   "outputs": [],
   "source": [
    "def alarm_request_handler(request):\n",
    "    if request[\"method\"]==\"GET\":\n",
    "        try:\n",
    "            username = request['values']['user']\n",
    "        except:\n",
    "            return \"This request is missing a username\"   \n",
    "        \n",
    "        with sqlite3.connect(alarm_db) as c:\n",
    "            \n",
    "            #check if exists\n",
    "            users = [i for i in c.execute('''SELECT * FROM alarm_data WHERE user == ?;''',(username,))]\n",
    "            \n",
    "            if not users:\n",
    "                return \"User does not exist or has no alarms set\"\n",
    "\n",
    "            times = [i[1] for i in users]\n",
    "            music = [j[1] for j in users]\n",
    "            \n",
    "        return {'alarm_time': times, 'music': music}\n",
    "    else:\n",
    "      return \"invalid HTTP method for this url.\""
   ]
  },
  {
   "cell_type": "code",
   "execution_count": 18,
   "id": "edf31549",
   "metadata": {},
   "outputs": [],
   "source": [
    "g = {'method': 'GET', 'values': {'user': 'cat'}, 'args': ['user']}"
   ]
  },
  {
   "cell_type": "code",
   "execution_count": 21,
   "id": "d06247a6",
   "metadata": {},
   "outputs": [
    {
     "data": {
      "text/plain": [
       "{'alarm_time': ['02:30', '12:00'], 'music': ['02:30', '12:00']}"
      ]
     },
     "execution_count": 21,
     "metadata": {},
     "output_type": "execute_result"
    }
   ],
   "source": [
    "alarm_request_handler(g)"
   ]
  },
  {
   "cell_type": "markdown",
   "id": "ee242669",
   "metadata": {},
   "source": [
    "leaderboard"
   ]
  },
  {
   "cell_type": "code",
   "execution_count": 90,
   "id": "974c2770",
   "metadata": {},
   "outputs": [],
   "source": [
    "game_db = 'database/leaderboard.db' "
   ]
  },
  {
   "cell_type": "code",
   "execution_count": 91,
   "id": "7ab8eb54",
   "metadata": {},
   "outputs": [],
   "source": [
    "def post_request_handler(request):\n",
    "    if request[\"method\"]==\"POST\":\n",
    "        #parse the body of the incoming POST\n",
    "        try:\n",
    "            username = request['form']['user']\n",
    "            gamename = request['form']['game_name']\n",
    "            gamelength = request['form']['length']\n",
    "        except:\n",
    "            return \"Error with username, game name, or game length\"   \n",
    "        \n",
    "        with sqlite3.connect(game_db) as c:\n",
    "            c.cursor()  # move cursor into database (allows us to execute commands)\n",
    "            c.execute(\"\"\"CREATE TABLE IF NOT EXISTS all_game_data (user text, date Datetime, game_name text, length float);\"\"\")\n",
    "            # some other query(ies) about inserting data\n",
    "            c.execute('''INSERT into all_game_data VALUES (?,?,?,?);''',(username, datetime.datetime.now(), gamename, gamelength))\n",
    "\n",
    "        return \"Data POSTED successfully\"\n",
    "    else:\n",
    "        return \"invalid HTTP method for this url.\""
   ]
  },
  {
   "cell_type": "code",
   "execution_count": 104,
   "id": "ebf99623",
   "metadata": {},
   "outputs": [],
   "source": [
    "user_game = {'method': 'POST', 'form': {'user': 'cat', 'game_name': 'math', 'length': '13.5'}, 'args': ['user', 'game_name', 'length']}\n",
    "#request_handler(user_game)"
   ]
  },
  {
   "cell_type": "code",
   "execution_count": 105,
   "id": "df5020e2",
   "metadata": {},
   "outputs": [
    {
     "data": {
      "text/plain": [
       "'Data POSTED successfully'"
      ]
     },
     "execution_count": 105,
     "metadata": {},
     "output_type": "execute_result"
    }
   ],
   "source": [
    "post_request_handler(user_game)"
   ]
  },
  {
   "cell_type": "code",
   "execution_count": 109,
   "id": "b7d40816",
   "metadata": {},
   "outputs": [],
   "source": [
    "def get_request_handler(request):\n",
    "    if request[\"method\"]==\"GET\":\n",
    "        #parse the body of the incoming POST\n",
    "        try:\n",
    "            username = request['values']['user']\n",
    "            gamename = request['values']['game_name']\n",
    "        except:\n",
    "            return \"Error with username or user has not played this game\"   \n",
    "        \n",
    "        \n",
    "        with sqlite3.connect(game_db) as c:\n",
    "            c.cursor()  # move cursor into database (allows us to execute commands)\n",
    "            users_games = [i for i in c.execute('''SELECT * FROM all_game_data WHERE user == ? AND game_name = ? ORDER BY length ASC;''',(username,gamename))]\n",
    "            print(users_games)\n",
    "\n",
    "            \n",
    "\n",
    "        return \"Data Gotten successfully\"\n",
    "    else:\n",
    "        return \"invalid HTTP method for this url.\""
   ]
  },
  {
   "cell_type": "code",
   "execution_count": 107,
   "id": "c6b4102a",
   "metadata": {},
   "outputs": [],
   "source": [
    "ug = {'method': 'GET', 'values': {'user': 'cat', 'game_name': 'math'}, 'args': ['user', 'game_name']}"
   ]
  },
  {
   "cell_type": "code",
   "execution_count": 110,
   "id": "6e1ae439",
   "metadata": {},
   "outputs": [
    {
     "name": "stdout",
     "output_type": "stream",
     "text": [
      "[('cat', '2022-04-27 06:23:15.767295', 'math', 13.5), ('cat', '2022-04-27 06:23:18.865893', 'math', 13.5)]\n"
     ]
    },
    {
     "data": {
      "text/plain": [
       "'Data Gotten successfully'"
      ]
     },
     "execution_count": 110,
     "metadata": {},
     "output_type": "execute_result"
    }
   ],
   "source": [
    "get_request_handler(ug)"
   ]
  },
  {
   "cell_type": "markdown",
   "id": "57945b8c",
   "metadata": {},
   "source": [
    "bokeh"
   ]
  },
  {
   "cell_type": "code",
   "execution_count": 87,
   "id": "2b785507",
   "metadata": {},
   "outputs": [],
   "source": [
    "from bokeh.plotting import figure, output_file, show\n",
    "from bokeh.models import ColumnDataSource, TableColumn, DataTable, CustomJS, Range1d, Select\n",
    "from bokeh.io import show\n",
    "from bokeh.layouts import column\n",
    "from bokeh.embed import components\n",
    "import pandas as pd\n",
    "import sqlite3\n",
    "import datetime\n",
    "from bokeh.models import DatetimeTickFormatter"
   ]
  },
  {
   "cell_type": "code",
   "execution_count": 86,
   "id": "ae46bc41",
   "metadata": {},
   "outputs": [
    {
     "data": {
      "text/html": [
       "\n",
       "    <div class=\"bk-root\">\n",
       "        <a href=\"https://bokeh.org\" target=\"_blank\" class=\"bk-logo bk-logo-small bk-logo-notebook\"></a>\n",
       "        <span id=\"1566\">Loading BokehJS ...</span>\n",
       "    </div>"
      ]
     },
     "metadata": {},
     "output_type": "display_data"
    },
    {
     "data": {
      "application/javascript": "\n(function(root) {\n  function now() {\n    return new Date();\n  }\n\n  const force = true;\n\n  if (typeof root._bokeh_onload_callbacks === \"undefined\" || force === true) {\n    root._bokeh_onload_callbacks = [];\n    root._bokeh_is_loading = undefined;\n  }\n\n  const JS_MIME_TYPE = 'application/javascript';\n  const HTML_MIME_TYPE = 'text/html';\n  const EXEC_MIME_TYPE = 'application/vnd.bokehjs_exec.v0+json';\n  const CLASS_NAME = 'output_bokeh rendered_html';\n\n  /**\n   * Render data to the DOM node\n   */\n  function render(props, node) {\n    const script = document.createElement(\"script\");\n    node.appendChild(script);\n  }\n\n  /**\n   * Handle when an output is cleared or removed\n   */\n  function handleClearOutput(event, handle) {\n    const cell = handle.cell;\n\n    const id = cell.output_area._bokeh_element_id;\n    const server_id = cell.output_area._bokeh_server_id;\n    // Clean up Bokeh references\n    if (id != null && id in Bokeh.index) {\n      Bokeh.index[id].model.document.clear();\n      delete Bokeh.index[id];\n    }\n\n    if (server_id !== undefined) {\n      // Clean up Bokeh references\n      const cmd_clean = \"from bokeh.io.state import curstate; print(curstate().uuid_to_server['\" + server_id + \"'].get_sessions()[0].document.roots[0]._id)\";\n      cell.notebook.kernel.execute(cmd_clean, {\n        iopub: {\n          output: function(msg) {\n            const id = msg.content.text.trim();\n            if (id in Bokeh.index) {\n              Bokeh.index[id].model.document.clear();\n              delete Bokeh.index[id];\n            }\n          }\n        }\n      });\n      // Destroy server and session\n      const cmd_destroy = \"import bokeh.io.notebook as ion; ion.destroy_server('\" + server_id + \"')\";\n      cell.notebook.kernel.execute(cmd_destroy);\n    }\n  }\n\n  /**\n   * Handle when a new output is added\n   */\n  function handleAddOutput(event, handle) {\n    const output_area = handle.output_area;\n    const output = handle.output;\n\n    // limit handleAddOutput to display_data with EXEC_MIME_TYPE content only\n    if ((output.output_type != \"display_data\") || (!Object.prototype.hasOwnProperty.call(output.data, EXEC_MIME_TYPE))) {\n      return\n    }\n\n    const toinsert = output_area.element.find(\".\" + CLASS_NAME.split(' ')[0]);\n\n    if (output.metadata[EXEC_MIME_TYPE][\"id\"] !== undefined) {\n      toinsert[toinsert.length - 1].firstChild.textContent = output.data[JS_MIME_TYPE];\n      // store reference to embed id on output_area\n      output_area._bokeh_element_id = output.metadata[EXEC_MIME_TYPE][\"id\"];\n    }\n    if (output.metadata[EXEC_MIME_TYPE][\"server_id\"] !== undefined) {\n      const bk_div = document.createElement(\"div\");\n      bk_div.innerHTML = output.data[HTML_MIME_TYPE];\n      const script_attrs = bk_div.children[0].attributes;\n      for (let i = 0; i < script_attrs.length; i++) {\n        toinsert[toinsert.length - 1].firstChild.setAttribute(script_attrs[i].name, script_attrs[i].value);\n        toinsert[toinsert.length - 1].firstChild.textContent = bk_div.children[0].textContent\n      }\n      // store reference to server id on output_area\n      output_area._bokeh_server_id = output.metadata[EXEC_MIME_TYPE][\"server_id\"];\n    }\n  }\n\n  function register_renderer(events, OutputArea) {\n\n    function append_mime(data, metadata, element) {\n      // create a DOM node to render to\n      const toinsert = this.create_output_subarea(\n        metadata,\n        CLASS_NAME,\n        EXEC_MIME_TYPE\n      );\n      this.keyboard_manager.register_events(toinsert);\n      // Render to node\n      const props = {data: data, metadata: metadata[EXEC_MIME_TYPE]};\n      render(props, toinsert[toinsert.length - 1]);\n      element.append(toinsert);\n      return toinsert\n    }\n\n    /* Handle when an output is cleared or removed */\n    events.on('clear_output.CodeCell', handleClearOutput);\n    events.on('delete.Cell', handleClearOutput);\n\n    /* Handle when a new output is added */\n    events.on('output_added.OutputArea', handleAddOutput);\n\n    /**\n     * Register the mime type and append_mime function with output_area\n     */\n    OutputArea.prototype.register_mime_type(EXEC_MIME_TYPE, append_mime, {\n      /* Is output safe? */\n      safe: true,\n      /* Index of renderer in `output_area.display_order` */\n      index: 0\n    });\n  }\n\n  // register the mime type if in Jupyter Notebook environment and previously unregistered\n  if (root.Jupyter !== undefined) {\n    const events = require('base/js/events');\n    const OutputArea = require('notebook/js/outputarea').OutputArea;\n\n    if (OutputArea.prototype.mime_types().indexOf(EXEC_MIME_TYPE) == -1) {\n      register_renderer(events, OutputArea);\n    }\n  }\n\n  \n  if (typeof (root._bokeh_timeout) === \"undefined\" || force === true) {\n    root._bokeh_timeout = Date.now() + 5000;\n    root._bokeh_failed_load = false;\n  }\n\n  const NB_LOAD_WARNING = {'data': {'text/html':\n     \"<div style='background-color: #fdd'>\\n\"+\n     \"<p>\\n\"+\n     \"BokehJS does not appear to have successfully loaded. If loading BokehJS from CDN, this \\n\"+\n     \"may be due to a slow or bad network connection. Possible fixes:\\n\"+\n     \"</p>\\n\"+\n     \"<ul>\\n\"+\n     \"<li>re-rerun `output_notebook()` to attempt to load from CDN again, or</li>\\n\"+\n     \"<li>use INLINE resources instead, as so:</li>\\n\"+\n     \"</ul>\\n\"+\n     \"<code>\\n\"+\n     \"from bokeh.resources import INLINE\\n\"+\n     \"output_notebook(resources=INLINE)\\n\"+\n     \"</code>\\n\"+\n     \"</div>\"}};\n\n  function display_loaded() {\n    const el = document.getElementById(\"1566\");\n    if (el != null) {\n      el.textContent = \"BokehJS is loading...\";\n    }\n    if (root.Bokeh !== undefined) {\n      if (el != null) {\n        el.textContent = \"BokehJS \" + root.Bokeh.version + \" successfully loaded.\";\n      }\n    } else if (Date.now() < root._bokeh_timeout) {\n      setTimeout(display_loaded, 100)\n    }\n  }\n\n\n  function run_callbacks() {\n    try {\n      root._bokeh_onload_callbacks.forEach(function(callback) {\n        if (callback != null)\n          callback();\n      });\n    } finally {\n      delete root._bokeh_onload_callbacks\n    }\n    console.debug(\"Bokeh: all callbacks have finished\");\n  }\n\n  function load_libs(css_urls, js_urls, callback) {\n    if (css_urls == null) css_urls = [];\n    if (js_urls == null) js_urls = [];\n\n    root._bokeh_onload_callbacks.push(callback);\n    if (root._bokeh_is_loading > 0) {\n      console.debug(\"Bokeh: BokehJS is being loaded, scheduling callback at\", now());\n      return null;\n    }\n    if (js_urls == null || js_urls.length === 0) {\n      run_callbacks();\n      return null;\n    }\n    console.debug(\"Bokeh: BokehJS not loaded, scheduling load and callback at\", now());\n    root._bokeh_is_loading = css_urls.length + js_urls.length;\n\n    function on_load() {\n      root._bokeh_is_loading--;\n      if (root._bokeh_is_loading === 0) {\n        console.debug(\"Bokeh: all BokehJS libraries/stylesheets loaded\");\n        run_callbacks()\n      }\n    }\n\n    function on_error(url) {\n      console.error(\"failed to load \" + url);\n    }\n\n    for (let i = 0; i < css_urls.length; i++) {\n      const url = css_urls[i];\n      const element = document.createElement(\"link\");\n      element.onload = on_load;\n      element.onerror = on_error.bind(null, url);\n      element.rel = \"stylesheet\";\n      element.type = \"text/css\";\n      element.href = url;\n      console.debug(\"Bokeh: injecting link tag for BokehJS stylesheet: \", url);\n      document.body.appendChild(element);\n    }\n\n    for (let i = 0; i < js_urls.length; i++) {\n      const url = js_urls[i];\n      const element = document.createElement('script');\n      element.onload = on_load;\n      element.onerror = on_error.bind(null, url);\n      element.async = false;\n      element.src = url;\n      console.debug(\"Bokeh: injecting script tag for BokehJS library: \", url);\n      document.head.appendChild(element);\n    }\n  };\n\n  function inject_raw_css(css) {\n    const element = document.createElement(\"style\");\n    element.appendChild(document.createTextNode(css));\n    document.body.appendChild(element);\n  }\n\n  \n  const js_urls = [\"https://cdn.bokeh.org/bokeh/release/bokeh-2.4.2.min.js\", \"https://cdn.bokeh.org/bokeh/release/bokeh-gl-2.4.2.min.js\", \"https://cdn.bokeh.org/bokeh/release/bokeh-widgets-2.4.2.min.js\", \"https://cdn.bokeh.org/bokeh/release/bokeh-tables-2.4.2.min.js\", \"https://cdn.bokeh.org/bokeh/release/bokeh-mathjax-2.4.2.min.js\"];\n  const css_urls = [];\n  \n\n  const inline_js = [\n    function(Bokeh) {\n      Bokeh.set_log_level(\"info\");\n    },\n    function(Bokeh) {\n    \n    \n    }\n  ];\n\n  function run_inline_js() {\n    \n    if (root.Bokeh !== undefined || force === true) {\n      \n    for (let i = 0; i < inline_js.length; i++) {\n      inline_js[i].call(root, root.Bokeh);\n    }\n    if (force === true) {\n        display_loaded();\n      }} else if (Date.now() < root._bokeh_timeout) {\n      setTimeout(run_inline_js, 100);\n    } else if (!root._bokeh_failed_load) {\n      console.log(\"Bokeh: BokehJS failed to load within specified timeout.\");\n      root._bokeh_failed_load = true;\n    } else if (force !== true) {\n      const cell = $(document.getElementById(\"1566\")).parents('.cell').data().cell;\n      cell.output_area.append_execute_result(NB_LOAD_WARNING)\n    }\n\n  }\n\n  if (root._bokeh_is_loading === 0) {\n    console.debug(\"Bokeh: BokehJS loaded, going straight to plotting\");\n    run_inline_js();\n  } else {\n    load_libs(css_urls, js_urls, function() {\n      console.debug(\"Bokeh: BokehJS plotting callback run at\", now());\n      run_inline_js();\n    });\n  }\n}(window));",
      "application/vnd.bokehjs_load.v0+json": ""
     },
     "metadata": {},
     "output_type": "display_data"
    },
    {
     "data": {
      "text/html": [
       "\n",
       "\n",
       "\n",
       "\n",
       "\n",
       "\n",
       "  <div class=\"bk-root\" id=\"464f689c-5e8d-442e-a482-5e7e6dd05853\" data-root-id=\"1613\"></div>\n"
      ]
     },
     "metadata": {},
     "output_type": "display_data"
    },
    {
     "data": {
      "application/javascript": "(function(root) {\n  function embed_document(root) {\n    \n  const docs_json = {\"e60053f6-ff8d-487e-8e81-58c73d3fce64\":{\"defs\":[],\"roots\":{\"references\":[{\"attributes\":{\"children\":[{\"id\":\"1611\"},{\"id\":\"1568\"}]},\"id\":\"1613\",\"type\":\"Column\"},{\"attributes\":{\"coordinates\":null,\"formatter\":{\"id\":\"1620\"},\"group\":null,\"major_label_policy\":{\"id\":\"1621\"},\"ticker\":{\"id\":\"1577\"}},\"id\":\"1576\",\"type\":\"LinearAxis\"},{\"attributes\":{\"js_property_callbacks\":{\"change:value\":[{\"id\":\"1612\"}]},\"options\":[\"Line 1\",\"Line 2\"],\"title\":\"Plot to show:\",\"value\":\"Line 1\"},\"id\":\"1611\",\"type\":\"Select\"},{\"attributes\":{},\"id\":\"1623\",\"type\":\"Selection\"},{\"attributes\":{},\"id\":\"1620\",\"type\":\"BasicTickFormatter\"},{\"attributes\":{},\"id\":\"1617\",\"type\":\"BasicTickFormatter\"},{\"attributes\":{\"line_alpha\":0.1,\"line_color\":\"firebrick\",\"x\":{\"field\":\"x\"},\"y\":{\"field\":\"y2\"}},\"id\":\"1607\",\"type\":\"Line\"},{\"attributes\":{\"line_alpha\":0.1,\"line_color\":\"teal\",\"x\":{\"field\":\"x\"},\"y\":{\"field\":\"y1\"}},\"id\":\"1601\",\"type\":\"Line\"},{\"attributes\":{},\"id\":\"1622\",\"type\":\"UnionRenderers\"},{\"attributes\":{\"line_alpha\":0.2,\"line_color\":\"firebrick\",\"x\":{\"field\":\"x\"},\"y\":{\"field\":\"y2\"}},\"id\":\"1608\",\"type\":\"Line\"},{\"attributes\":{},\"id\":\"1587\",\"type\":\"SaveTool\"},{\"attributes\":{\"coordinates\":null,\"formatter\":{\"id\":\"1617\"},\"group\":null,\"major_label_policy\":{\"id\":\"1618\"},\"ticker\":{\"id\":\"1581\"}},\"id\":\"1580\",\"type\":\"LinearAxis\"},{\"attributes\":{},\"id\":\"1572\",\"type\":\"LinearScale\"},{\"attributes\":{},\"id\":\"1581\",\"type\":\"BasicTicker\"},{\"attributes\":{},\"id\":\"1588\",\"type\":\"ResetTool\"},{\"attributes\":{},\"id\":\"1585\",\"type\":\"WheelZoomTool\"},{\"attributes\":{\"end\":60},\"id\":\"1567\",\"type\":\"Range1d\"},{\"attributes\":{\"args\":{\"line_1\":{\"id\":\"1603\"},\"line_2\":{\"id\":\"1609\"}},\"code\":\"\\n\\nline_1.visible = true\\nline_2.visible = true\\n\\nif (this.value === \\\"Line 1\\\") {\\n    line_2.visible = false \\n} else {\\n    line_1.visible = false\\n}\\n    \\n\"},\"id\":\"1612\",\"type\":\"CustomJS\"},{\"attributes\":{},\"id\":\"1569\",\"type\":\"DataRange1d\"},{\"attributes\":{\"tools\":[{\"id\":\"1584\"},{\"id\":\"1585\"},{\"id\":\"1586\"},{\"id\":\"1587\"},{\"id\":\"1588\"},{\"id\":\"1589\"}]},\"id\":\"1591\",\"type\":\"Toolbar\"},{\"attributes\":{\"line_color\":\"teal\",\"x\":{\"field\":\"x\"},\"y\":{\"field\":\"y1\"}},\"id\":\"1600\",\"type\":\"Line\"},{\"attributes\":{},\"id\":\"1618\",\"type\":\"AllLabels\"},{\"attributes\":{\"line_color\":\"firebrick\",\"x\":{\"field\":\"x\"},\"y\":{\"field\":\"y2\"}},\"id\":\"1606\",\"type\":\"Line\"},{\"attributes\":{},\"id\":\"1574\",\"type\":\"LinearScale\"},{\"attributes\":{},\"id\":\"1589\",\"type\":\"HelpTool\"},{\"attributes\":{},\"id\":\"1584\",\"type\":\"PanTool\"},{\"attributes\":{},\"id\":\"1577\",\"type\":\"BasicTicker\"},{\"attributes\":{\"line_alpha\":0.2,\"line_color\":\"teal\",\"x\":{\"field\":\"x\"},\"y\":{\"field\":\"y1\"}},\"id\":\"1602\",\"type\":\"Line\"},{\"attributes\":{\"coordinates\":null,\"group\":null},\"id\":\"1614\",\"type\":\"Title\"},{\"attributes\":{\"data\":{\"index\":[0,1,2,3,4,5,6,7,8,9,10,11,12,13,14,15,16,17,18,19,20,21,22,23,24,25,26,27,28,29,30,31,32,33,34,35,36,37,38,39,40,41,42,43,44,45,46,47,48,49,50,51,52,53,54,55,56,57,58,59,60,61,62,63,64,65,66,67,68,69,70,71,72,73,74,75,76,77,78,79,80,81,82,83,84,85,86,87,88,89,90,91,92,93,94,95,96,97,98,99],\"x\":[0,1,2,3,4,5,6,7,8,9,10,11,12,13,14,15,16,17,18,19,20,21,22,23,24,25,26,27,28,29,30,31,32,33,34,35,36,37,38,39,40,41,42,43,44,45,46,47,48,49,50,51,52,53,54,55,56,57,58,59,60,61,62,63,64,65,66,67,68,69,70,71,72,73,74,75,76,77,78,79,80,81,82,83,84,85,86,87,88,89,90,91,92,93,94,95,96,97,98,99],\"y1\":[12,14,13,10,12,14,14,12,19,17,10,10,17,10,14,16,12,11,17,11,14,17,15,13,14,14,11,16,18,17,13,10,13,11,15,14,14,11,10,18,15,12,18,14,18,10,15,12,15,14,17,10,12,11,17,10,16,19,19,16,14,16,15,14,19,15,11,14,17,18,15,13,17,15,17,13,15,17,14,17,16,11,15,18,18,17,14,11,18,16,18,18,14,18,17,14,11,10,15,19],\"y2\":[49,48,47,49,42,45,47,48,42,49,43,41,44,45,43,40,45,47,49,43,46,47,40,41,47,43,47,46,45,45,49,43,45,47,43,49,41,40,48,42,44,47,40,41,46,46,42,49,44,44,44,43,40,43,41,49,42,44,44,47,49,44,48,45,45,48,42,45,48,45,45,47,42,43,40,48,45,49,44,48,41,48,49,41,42,43,40,49,40,47,47,46,43,49,41,46,40,41,46,46]},\"selected\":{\"id\":\"1623\"},\"selection_policy\":{\"id\":\"1622\"}},\"id\":\"1598\",\"type\":\"ColumnDataSource\"},{\"attributes\":{},\"id\":\"1621\",\"type\":\"AllLabels\"},{\"attributes\":{\"source\":{\"id\":\"1598\"}},\"id\":\"1610\",\"type\":\"CDSView\"},{\"attributes\":{\"below\":[{\"id\":\"1576\"}],\"center\":[{\"id\":\"1579\"},{\"id\":\"1583\"}],\"height\":400,\"left\":[{\"id\":\"1580\"}],\"renderers\":[{\"id\":\"1603\"},{\"id\":\"1609\"}],\"title\":{\"id\":\"1614\"},\"toolbar\":{\"id\":\"1591\"},\"x_range\":{\"id\":\"1569\"},\"x_scale\":{\"id\":\"1572\"},\"y_range\":{\"id\":\"1567\"},\"y_scale\":{\"id\":\"1574\"}},\"id\":\"1568\",\"subtype\":\"Figure\",\"type\":\"Plot\"},{\"attributes\":{\"axis\":{\"id\":\"1580\"},\"coordinates\":null,\"dimension\":1,\"group\":null,\"ticker\":null},\"id\":\"1583\",\"type\":\"Grid\"},{\"attributes\":{\"source\":{\"id\":\"1598\"}},\"id\":\"1604\",\"type\":\"CDSView\"},{\"attributes\":{\"axis\":{\"id\":\"1576\"},\"coordinates\":null,\"group\":null,\"ticker\":null},\"id\":\"1579\",\"type\":\"Grid\"},{\"attributes\":{\"overlay\":{\"id\":\"1590\"}},\"id\":\"1586\",\"type\":\"BoxZoomTool\"},{\"attributes\":{\"coordinates\":null,\"data_source\":{\"id\":\"1598\"},\"glyph\":{\"id\":\"1600\"},\"group\":null,\"hover_glyph\":null,\"muted_glyph\":{\"id\":\"1602\"},\"nonselection_glyph\":{\"id\":\"1601\"},\"view\":{\"id\":\"1604\"}},\"id\":\"1603\",\"type\":\"GlyphRenderer\"},{\"attributes\":{\"coordinates\":null,\"data_source\":{\"id\":\"1598\"},\"glyph\":{\"id\":\"1606\"},\"group\":null,\"hover_glyph\":null,\"muted_glyph\":{\"id\":\"1608\"},\"nonselection_glyph\":{\"id\":\"1607\"},\"view\":{\"id\":\"1610\"},\"visible\":false},\"id\":\"1609\",\"type\":\"GlyphRenderer\"},{\"attributes\":{\"bottom_units\":\"screen\",\"coordinates\":null,\"fill_alpha\":0.5,\"fill_color\":\"lightgrey\",\"group\":null,\"left_units\":\"screen\",\"level\":\"overlay\",\"line_alpha\":1.0,\"line_color\":\"black\",\"line_dash\":[4,4],\"line_width\":2,\"right_units\":\"screen\",\"syncable\":false,\"top_units\":\"screen\"},\"id\":\"1590\",\"type\":\"BoxAnnotation\"}],\"root_ids\":[\"1613\"]},\"title\":\"Bokeh Application\",\"version\":\"2.4.2\"}};\n  const render_items = [{\"docid\":\"e60053f6-ff8d-487e-8e81-58c73d3fce64\",\"root_ids\":[\"1613\"],\"roots\":{\"1613\":\"464f689c-5e8d-442e-a482-5e7e6dd05853\"}}];\n  root.Bokeh.embed.embed_items_notebook(docs_json, render_items);\n\n  }\n  if (root.Bokeh !== undefined) {\n    embed_document(root);\n  } else {\n    let attempts = 0;\n    const timer = setInterval(function(root) {\n      if (root.Bokeh !== undefined) {\n        clearInterval(timer);\n        embed_document(root);\n      } else {\n        attempts++;\n        if (attempts > 100) {\n          clearInterval(timer);\n          console.log(\"Bokeh: ERROR: Unable to run BokehJS code because BokehJS library is missing\");\n        }\n      }\n    }, 10, root)\n  }\n})(window);",
      "application/vnd.bokehjs_exec.v0+json": ""
     },
     "metadata": {
      "application/vnd.bokehjs_exec.v0+json": {
       "id": "1613"
      }
     },
     "output_type": "display_data"
    }
   ],
   "source": [
    "#game over time\n",
    "from bokeh.models import ColumnDataSource, CustomJS, Range1d, Select\n",
    "from bokeh.plotting import figure, output_notebook, show\n",
    "from bokeh.layouts import column\n",
    "\n",
    "import pandas as pd\n",
    "import numpy as np\n",
    "\n",
    "# you can also output to an HTML file\n",
    "output_notebook() \n",
    "\n",
    "# toy dataframe with two y columns you can switch between\n",
    "df = pd.DataFrame(data={\n",
    "    \"x\"     : range(0,100),\n",
    "    \"y1\"     : np.random.randint(10, 20, 100),\n",
    "    \"y2\"     :  np.random.randint(40, 50, 100)\n",
    "})\n",
    "\n",
    "# fix the y_range to be the same for two lines\n",
    "p = figure(y_range=Range1d(0, 60), plot_width=600, plot_height=400)\n",
    "\n",
    "# shared datasource\n",
    "source = ColumnDataSource(df)\n",
    "\n",
    "plot_1 = p.line(x=\"x\", y=\"y1\", color=\"teal\", source=source, line_width=1)\n",
    "plot_2 = p.line(x=\"x\", y=\"y2\", color=\"firebrick\", source=source, line_width=1)\n",
    "\n",
    "# initialise the plot with only y1 visible - to match the dropdown default\n",
    "plot_2.visible = False\n",
    "\n",
    "# dropdown widget + Javascript code for interactivity\n",
    "select = Select(title=\"Plot to show:\", value=\"Line 1\", options=[\"Line 1\", \"Line 2\"])\n",
    "select.js_on_change(\"value\", CustomJS(args=dict(line_1=plot_1, line_2=plot_2), code=\"\"\"\n",
    "\n",
    "line_1.visible = true\n",
    "line_2.visible = true\n",
    "\n",
    "if (this.value === \"Line 1\") {\n",
    "    line_2.visible = false \n",
    "} else {\n",
    "    line_1.visible = false\n",
    "}\n",
    "    \n",
    "\"\"\"))\n",
    "\n",
    "layout = column(select, p)\n",
    "show(layout)"
   ]
  },
  {
   "cell_type": "code",
   "execution_count": null,
   "id": "10afcf95",
   "metadata": {},
   "outputs": [],
   "source": [
    "def graph_request_handler(request):\n",
    "    if request[\"method\"]==\"GET\":\n",
    "        #parse the body of the incoming POST\n",
    "        try:\n",
    "            username = request['values']['user']\n",
    "            gamename = request['values']['game_name']\n",
    "        except:\n",
    "            return \"Error with game or username\"   \n",
    "        \n",
    "        \n",
    "        with sqlite3.connect(game_db) as c:\n",
    "            c.cursor()  # move cursor into database (allows us to execute commands)\n",
    "            \n",
    "            users = [i[0] for i in c.execute('''SELECT DISTINCT user FROM all_game_data;''')]\n",
    "            print(users)\n",
    "            scores = []\n",
    "            for u in users:\n",
    "                top_score = [i for i in c.execute('''SELECT * FROM all_game_data WHERE user == ? AND game_name == ? ORDER BY length ASC LIMIT 1;''',(u,gamename))][0][3]\n",
    "                scores.append(top_score)\n",
    "\n",
    "            df = pd.DataFrame({'User': users, 'Best Score': scores}).sort_values(by=['Best Score'])\n",
    "            source = ColumnDataSource(df)\n",
    "            columns = [TableColumn(field='User', title='User'),TableColumn(field='Best Score', title='Best Score')]\n",
    "            myTable = DataTable(source=source, columns=columns)\n",
    "\n",
    "\n",
    "            user_games = [(i[1], i[3]) for i in c.execute('''SELECT * FROM all_game_data WHERE user == ? AND game_name == ? ORDER BY date ASC;''',(username,gamename))]\n",
    "            p1 = figure(title=\"Score over time\", width=300, height=300, x_axis_type=\"datetime\")\n",
    "            time = [datetime.datetime.strptime(u[0],'%Y-%m-%d %H:%M:%S.%f') for u in user_games]\n",
    "            score = [u[1] for u in user_games]\n",
    "            print(time)\n",
    "            print(score)\n",
    "            p1.line(time, score)\n",
    "\n",
    "            col = column(myTable, p1)\n",
    "            show(col)\n",
    "            script1, div1 = components(col)\n",
    "\n",
    "        return f'''<!DOCTYPE html>\n",
    "                <html> <script src=\"https://cdn.bokeh.org/bokeh/release/bokeh-2.4.0.min.js\"></script>\n",
    "                <body>\n",
    "                    {div1}\n",
    "                    {script1}\n",
    "                </body>\n",
    "                </html>\n",
    "                '''\n",
    "    else:\n",
    "        return \"invalid HTTP method for this url.\""
   ]
  },
  {
   "cell_type": "code",
   "execution_count": 88,
   "id": "6badb967",
   "metadata": {},
   "outputs": [],
   "source": [
    "def graph_request_handler(request):\n",
    "    if request[\"method\"]==\"GET\":\n",
    "        #parse the body of the incoming POST\n",
    "        try:\n",
    "            username = request['values']['user']\n",
    "        except:\n",
    "            return \"Error with username\"   \n",
    "        \n",
    "        \n",
    "        with sqlite3.connect(game_db) as c:\n",
    "            c.cursor()  # move cursor into database (allows us to execute commands)\n",
    "            \n",
    "            users = [i[0] for i in c.execute('''SELECT DISTINCT user FROM all_game_data;''')]\n",
    "            print(users)\n",
    "            games = [j[0] for j in c.execute('''SELECT DISTINCT game_name FROM all_game_data;''')]\n",
    "            print(games)\n",
    "\n",
    "            scores = []\n",
    "            gn = games[0]\n",
    "            for u in users:\n",
    "                top_score = [i for i in c.execute('''SELECT * FROM all_game_data WHERE user == ? AND game_name == ? ORDER BY length ASC LIMIT 1;''',(u,gn))][0][3]\n",
    "                scores.append(top_score)\n",
    "\n",
    "            df = pd.DataFrame({'User': users, 'Best Score': scores}).sort_values(by=['Best Score'])\n",
    "            source = ColumnDataSource(df)\n",
    "            columns = [TableColumn(field='User', title='User'),TableColumn(field='Best Score', title='Best Score')]\n",
    "            myTable = DataTable(source=source, columns=columns)\n",
    "\n",
    "\n",
    "            user_games = [(i[1], i[3]) for i in c.execute('''SELECT * FROM all_game_data WHERE user == ? AND game_name == ? ORDER BY date ASC;''',(username,gamename))]\n",
    "            p1 = figure(title=\"Score over time\", width=300, height=300, x_axis_type=\"datetime\")\n",
    "            time = [datetime.datetime.strptime(u[0],'%Y-%m-%d %H:%M:%S.%f') for u in user_games]\n",
    "            score = [u[1] for u in user_games]\n",
    "            print(time)\n",
    "            print(score)\n",
    "            p1.line(time, score)\n",
    "\n",
    "            col = column(myTable, p1)\n",
    "            show(col)\n",
    "            script1, div1 = components(col)\n",
    "\n",
    "        return f'''<!DOCTYPE html>\n",
    "                <html> <script src=\"https://cdn.bokeh.org/bokeh/release/bokeh-2.4.0.min.js\"></script>\n",
    "                <body>\n",
    "                    {div1}\n",
    "                    {script1}\n",
    "                </body>\n",
    "                </html>\n",
    "                '''\n",
    "    else:\n",
    "        return \"invalid HTTP method for this url.\""
   ]
  },
  {
   "cell_type": "code",
   "execution_count": 58,
   "id": "ec634cd8",
   "metadata": {},
   "outputs": [
    {
     "data": {
      "text/plain": [
       "'Data POSTED successfully'"
      ]
     },
     "execution_count": 58,
     "metadata": {},
     "output_type": "execute_result"
    }
   ],
   "source": [
    "user_game = {'method': 'POST', 'form': {'user': 'mat', 'game_name': 'maze', 'length': '14.5'}, 'args': ['user', 'game_name', 'length']}\n",
    "request_handler(user_game)"
   ]
  },
  {
   "cell_type": "code",
   "execution_count": 111,
   "id": "29ca3e71",
   "metadata": {},
   "outputs": [
    {
     "name": "stdout",
     "output_type": "stream",
     "text": [
      "['cat']\n",
      "['maze', 'math']\n"
     ]
    },
    {
     "ename": "NameError",
     "evalue": "name 'gamename' is not defined",
     "output_type": "error",
     "traceback": [
      "\u001b[0;31m---------------------------------------------------------------------------\u001b[0m",
      "\u001b[0;31mNameError\u001b[0m                                 Traceback (most recent call last)",
      "\u001b[0;32m/var/folders/z_/1dns0j8x5ll0y_j8yjp8c41m0000gn/T/ipykernel_28338/2557580861.py\u001b[0m in \u001b[0;36m<module>\u001b[0;34m\u001b[0m\n\u001b[1;32m      1\u001b[0m \u001b[0mug\u001b[0m \u001b[0;34m=\u001b[0m \u001b[0;34m{\u001b[0m\u001b[0;34m'method'\u001b[0m\u001b[0;34m:\u001b[0m \u001b[0;34m'GET'\u001b[0m\u001b[0;34m,\u001b[0m \u001b[0;34m'values'\u001b[0m\u001b[0;34m:\u001b[0m \u001b[0;34m{\u001b[0m\u001b[0;34m'user'\u001b[0m\u001b[0;34m:\u001b[0m \u001b[0;34m'cat'\u001b[0m\u001b[0;34m}\u001b[0m\u001b[0;34m,\u001b[0m \u001b[0;34m'args'\u001b[0m\u001b[0;34m:\u001b[0m \u001b[0;34m[\u001b[0m\u001b[0;34m'game_name'\u001b[0m\u001b[0;34m]\u001b[0m\u001b[0;34m}\u001b[0m\u001b[0;34m\u001b[0m\u001b[0;34m\u001b[0m\u001b[0m\n\u001b[0;32m----> 2\u001b[0;31m \u001b[0mgraph_request_handler\u001b[0m\u001b[0;34m(\u001b[0m\u001b[0mug\u001b[0m\u001b[0;34m)\u001b[0m\u001b[0;34m\u001b[0m\u001b[0;34m\u001b[0m\u001b[0m\n\u001b[0m",
      "\u001b[0;32m/var/folders/z_/1dns0j8x5ll0y_j8yjp8c41m0000gn/T/ipykernel_28338/1925393905.py\u001b[0m in \u001b[0;36mgraph_request_handler\u001b[0;34m(request)\u001b[0m\n\u001b[1;32m     28\u001b[0m \u001b[0;34m\u001b[0m\u001b[0m\n\u001b[1;32m     29\u001b[0m \u001b[0;34m\u001b[0m\u001b[0m\n\u001b[0;32m---> 30\u001b[0;31m             \u001b[0muser_games\u001b[0m \u001b[0;34m=\u001b[0m \u001b[0;34m[\u001b[0m\u001b[0;34m(\u001b[0m\u001b[0mi\u001b[0m\u001b[0;34m[\u001b[0m\u001b[0;36m1\u001b[0m\u001b[0;34m]\u001b[0m\u001b[0;34m,\u001b[0m \u001b[0mi\u001b[0m\u001b[0;34m[\u001b[0m\u001b[0;36m3\u001b[0m\u001b[0;34m]\u001b[0m\u001b[0;34m)\u001b[0m \u001b[0;32mfor\u001b[0m \u001b[0mi\u001b[0m \u001b[0;32min\u001b[0m \u001b[0mc\u001b[0m\u001b[0;34m.\u001b[0m\u001b[0mexecute\u001b[0m\u001b[0;34m(\u001b[0m\u001b[0;34m'''SELECT * FROM all_game_data WHERE user == ? AND game_name == ? ORDER BY date ASC;'''\u001b[0m\u001b[0;34m,\u001b[0m\u001b[0;34m(\u001b[0m\u001b[0musername\u001b[0m\u001b[0;34m,\u001b[0m\u001b[0mgamename\u001b[0m\u001b[0;34m)\u001b[0m\u001b[0;34m)\u001b[0m\u001b[0;34m]\u001b[0m\u001b[0;34m\u001b[0m\u001b[0;34m\u001b[0m\u001b[0m\n\u001b[0m\u001b[1;32m     31\u001b[0m             \u001b[0mp1\u001b[0m \u001b[0;34m=\u001b[0m \u001b[0mfigure\u001b[0m\u001b[0;34m(\u001b[0m\u001b[0mtitle\u001b[0m\u001b[0;34m=\u001b[0m\u001b[0;34m\"Score over time\"\u001b[0m\u001b[0;34m,\u001b[0m \u001b[0mwidth\u001b[0m\u001b[0;34m=\u001b[0m\u001b[0;36m300\u001b[0m\u001b[0;34m,\u001b[0m \u001b[0mheight\u001b[0m\u001b[0;34m=\u001b[0m\u001b[0;36m300\u001b[0m\u001b[0;34m,\u001b[0m \u001b[0mx_axis_type\u001b[0m\u001b[0;34m=\u001b[0m\u001b[0;34m\"datetime\"\u001b[0m\u001b[0;34m)\u001b[0m\u001b[0;34m\u001b[0m\u001b[0;34m\u001b[0m\u001b[0m\n\u001b[1;32m     32\u001b[0m             \u001b[0mtime\u001b[0m \u001b[0;34m=\u001b[0m \u001b[0;34m[\u001b[0m\u001b[0mdatetime\u001b[0m\u001b[0;34m.\u001b[0m\u001b[0mdatetime\u001b[0m\u001b[0;34m.\u001b[0m\u001b[0mstrptime\u001b[0m\u001b[0;34m(\u001b[0m\u001b[0mu\u001b[0m\u001b[0;34m[\u001b[0m\u001b[0;36m0\u001b[0m\u001b[0;34m]\u001b[0m\u001b[0;34m,\u001b[0m\u001b[0;34m'%Y-%m-%d %H:%M:%S.%f'\u001b[0m\u001b[0;34m)\u001b[0m \u001b[0;32mfor\u001b[0m \u001b[0mu\u001b[0m \u001b[0;32min\u001b[0m \u001b[0muser_games\u001b[0m\u001b[0;34m]\u001b[0m\u001b[0;34m\u001b[0m\u001b[0;34m\u001b[0m\u001b[0m\n",
      "\u001b[0;31mNameError\u001b[0m: name 'gamename' is not defined"
     ]
    }
   ],
   "source": [
    "ug = {'method': 'GET', 'values': {'user': 'cat'}, 'args': ['game_name']}\n",
    "graph_request_handler(ug)"
   ]
  },
  {
   "cell_type": "code",
   "execution_count": 169,
   "id": "16b8fa2c",
   "metadata": {},
   "outputs": [
    {
     "name": "stdout",
     "output_type": "stream",
     "text": [
      "['cat', 'bat', 'mat']\n",
      "[datetime.datetime(2022, 4, 13, 2, 21, 31, 733577), datetime.datetime(2022, 4, 20, 21, 7, 56, 16545), datetime.datetime(2022, 4, 20, 21, 9, 52, 952268)]\n",
      "[12.5, 12.5, 13.5]\n"
     ]
    }
   ],
   "source": [
    "Func = open(\"test.html\",\"w\")\n",
    "result = graph_request_handler(ug)\n",
    "Func.write(result)\n",
    "Func.close()"
   ]
  },
  {
   "cell_type": "markdown",
   "id": "5d6fbdd6",
   "metadata": {},
   "source": [
    "password + login\n"
   ]
  },
  {
   "cell_type": "code",
   "execution_count": 2,
   "id": "b4c93c83",
   "metadata": {},
   "outputs": [],
   "source": [
    "ht_db = 'database/userpassword.db' "
   ]
  },
  {
   "cell_type": "code",
   "execution_count": 10,
   "id": "9e7710ee",
   "metadata": {},
   "outputs": [],
   "source": [
    "def create_login_request_handler(request):\n",
    "    if request[\"method\"]==\"POST\":\n",
    "        #parse the body of the incoming POST\n",
    "        try:\n",
    "            username = request['form']['user']\n",
    "            pw = request['form']['password']\n",
    "        except:\n",
    "            return \"Error with username or password\"   \n",
    "        \n",
    "        with sqlite3.connect(ht_db) as c:\n",
    "            c.cursor()  # move cursor into database (allows us to execute commands)\n",
    "            c.execute(\"\"\"CREATE TABLE IF NOT EXISTS user_pw_data (user text, password text);\"\"\")\n",
    "            # some other query(ies) about inserting data\n",
    "            \n",
    "            #if already in database\n",
    "            users = [i for i in c.execute('''SELECT * FROM user_pw_data WHERE user == ?;''',(username,))]\n",
    "            \n",
    "            print('users ',users)\n",
    "            if users != []:\n",
    "                return \"Username is taken\"\n",
    "            else:\n",
    "                c.execute('''INSERT into user_pw_data VALUES (?,?);''',(username, pw))\n",
    "        \n",
    "        return \"Data POSTED successfully\"\n",
    "    else:\n",
    "        return \"invalid HTTP method for this url.\""
   ]
  },
  {
   "cell_type": "code",
   "execution_count": 4,
   "id": "466de274",
   "metadata": {},
   "outputs": [],
   "source": [
    "r = {'method': 'POST', 'form': {'user': 'cat', 'password': '2006'}, 'args': ['user', 'password']}"
   ]
  },
  {
   "cell_type": "code",
   "execution_count": 11,
   "id": "4d4c6037",
   "metadata": {},
   "outputs": [
    {
     "name": "stdout",
     "output_type": "stream",
     "text": [
      "users  [('cat', '2006')]\n"
     ]
    },
    {
     "data": {
      "text/plain": [
       "'Username is taken'"
      ]
     },
     "execution_count": 11,
     "metadata": {},
     "output_type": "execute_result"
    }
   ],
   "source": [
    "create_login_request_handler(r)"
   ]
  },
  {
   "cell_type": "code",
   "execution_count": 30,
   "id": "ce2fde48",
   "metadata": {},
   "outputs": [],
   "source": [
    "g = {'method': 'GET', 'values': {'user': 'cat', 'password': '2006'}, 'args': ['user', 'password']}"
   ]
  },
  {
   "cell_type": "code",
   "execution_count": 31,
   "id": "87aec779",
   "metadata": {},
   "outputs": [],
   "source": [
    "def login_request_handler(request):\n",
    "    if request[\"method\"]==\"GET\":\n",
    "        #parse the body of the incoming POST\n",
    "        try:\n",
    "            username = request['values']['user']\n",
    "            pw = request['values']['password']\n",
    "        except:\n",
    "            return \"This request is missing a username or password\"   \n",
    "        \n",
    "        with sqlite3.connect(ht_db) as c:\n",
    "            \n",
    "            #check if exists\n",
    "            users = [i for i in c.execute('''SELECT * FROM user_pw_data WHERE user == ?;''',(username,))]\n",
    "            \n",
    "            if users:\n",
    "                print(users[0][1])\n",
    "                if users[0][1] != pw:\n",
    "                    return \"Incorrect password\"\n",
    "\n",
    "                return \"Login complete\"\n",
    "            else:\n",
    "                return \"Incorrect username or user does not exist\"\n",
    "            \n",
    "        return users\n",
    "    else:\n",
    "      return \"invalid HTTP method for this url.\""
   ]
  },
  {
   "cell_type": "code",
   "execution_count": 32,
   "id": "0563b582",
   "metadata": {},
   "outputs": [
    {
     "name": "stdout",
     "output_type": "stream",
     "text": [
      "2006\n"
     ]
    },
    {
     "data": {
      "text/plain": [
       "'Login complete'"
      ]
     },
     "execution_count": 32,
     "metadata": {},
     "output_type": "execute_result"
    }
   ],
   "source": [
    "login_request_handler(g)"
   ]
  },
  {
   "cell_type": "code",
   "execution_count": 37,
   "id": "f687622f",
   "metadata": {},
   "outputs": [],
   "source": [
    "tester = {'method': 'POST', 'args': ['user', 'password'], 'form': {'user': 'kxzheng', 'password': '300'}}"
   ]
  },
  {
   "cell_type": "code",
   "execution_count": 38,
   "id": "d846768e",
   "metadata": {},
   "outputs": [
    {
     "name": "stdout",
     "output_type": "stream",
     "text": [
      "users  []\n"
     ]
    },
    {
     "data": {
      "text/plain": [
       "'Data POSTED successfully'"
      ]
     },
     "execution_count": 38,
     "metadata": {},
     "output_type": "execute_result"
    }
   ],
   "source": [
    "create_login_request_handler(tester)"
   ]
  },
  {
   "cell_type": "code",
   "execution_count": 39,
   "id": "46e9aa73",
   "metadata": {},
   "outputs": [],
   "source": [
    "tester1 = {'method': 'GET', 'args': ['user', 'password'], 'values': {'user': 'kxzheng', 'password': '300'}}"
   ]
  },
  {
   "cell_type": "code",
   "execution_count": 40,
   "id": "681125ac",
   "metadata": {},
   "outputs": [
    {
     "name": "stdout",
     "output_type": "stream",
     "text": [
      "300\n"
     ]
    },
    {
     "data": {
      "text/plain": [
       "'Login complete'"
      ]
     },
     "execution_count": 40,
     "metadata": {},
     "output_type": "execute_result"
    }
   ],
   "source": [
    "login_request_handler(tester1)"
   ]
  }
 ],
 "metadata": {
  "kernelspec": {
   "display_name": "Python 3 (ipykernel)",
   "language": "python",
   "name": "python3"
  },
  "language_info": {
   "codemirror_mode": {
    "name": "ipython",
    "version": 3
   },
   "file_extension": ".py",
   "mimetype": "text/x-python",
   "name": "python",
   "nbconvert_exporter": "python",
   "pygments_lexer": "ipython3",
   "version": "3.8.8"
  }
 },
 "nbformat": 4,
 "nbformat_minor": 5
}
